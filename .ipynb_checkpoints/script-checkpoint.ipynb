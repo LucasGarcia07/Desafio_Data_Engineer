{
 "cells": [
  {
   "cell_type": "code",
   "execution_count": 1,
   "id": "c24c3f71",
   "metadata": {},
   "outputs": [],
   "source": [
    "import apache_beam as beam\n",
    "from apache_beam.dataframe.io import read_csv"
   ]
  },
  {
   "cell_type": "code",
   "execution_count": 2,
   "id": "b1db6df6",
   "metadata": {},
   "outputs": [],
   "source": [
    "covid_hist_path = (\"data/HIST_PAINEL_COVIDBR_28set2020.csv\")\n",
    "estados_ibge_path = (\"data/EstadosIBGE.csv\")"
   ]
  },
  {
   "cell_type": "code",
   "execution_count": 3,
   "id": "b357b5fc",
   "metadata": {},
   "outputs": [],
   "source": [
    "class ToStr(beam.DoFn):\n",
    "    '''\n",
    "    Transforma uma tupla de listas em string formatada\n",
    "    \n",
    "    Args:\n",
    "        element (tupple): tupla entre coduf e lista de regiao, governador, uf, estado, casosAcumulado, obitosAcumulado\n",
    "    Returns:\n",
    "        strings\n",
    "    '''\n",
    "    def process(self, element):\n",
    "        if len(element[1][0]) > len(element[1][1]):\n",
    "            lista = [element[1][0][0], element[1][0][1], element[1][1][1], element[1][1][0], element[1][0][2], element[1][0][3]]\n",
    "        else:\n",
    "            lista = [element[1][1][0], element[1][0][0], element[1][1][1], element[1][0][1], element[1][1][2], element[1][1][3]]\n",
    "        return [','.join(lista)]"
   ]
  },
  {
   "cell_type": "code",
   "execution_count": 4,
   "id": "f45e6803",
   "metadata": {},
   "outputs": [],
   "source": [
    "class GenerateCovidKey(beam.DoFn):\n",
    "    '''\n",
    "    Gera uma tupla de listas a partir dos elementos selecionados\n",
    "    \n",
    "    Args:\n",
    "        element (list): lista =>  [coduf, regiao, estado, casosAcumulado, obitosAcumulado]\n",
    "    \n",
    "    Returns: \n",
    "        tupple => (coduf, regiao, estado, casosAcumulado, obitosAcumulado )\n",
    "    \n",
    "    '''\n",
    "    def process(self, element):\n",
    "        return [(element[0], [element[1], element[2], element[3], element[4]])]"
   ]
  },
  {
   "cell_type": "code",
   "execution_count": 5,
   "id": "6f76e3c2",
   "metadata": {},
   "outputs": [],
   "source": [
    "class GenerateEstadosKey(beam.DoFn):\n",
    "    '''\n",
    "    Gera uma tupla de listas a partir dos elementos selecionados\n",
    "    \n",
    "    Args:\n",
    "        element (list): lista =>  [coduf, governador, uf]\n",
    "    \n",
    "    Returns: \n",
    "        tupple => (coduf, governador, uf)\n",
    "    \n",
    "    '''\n",
    "    \n",
    "    def process(self, element):\n",
    "        return [(element[0], [element[1], element[2]])]"
   ]
  },
  {
   "cell_type": "code",
   "execution_count": 6,
   "id": "912e9381",
   "metadata": {},
   "outputs": [],
   "source": [
    "class SelectEstadosFields(beam.DoFn):\n",
    "    '''\n",
    "    Seleciona dentre todas as features extraídas, código, governador, uf\n",
    "    \n",
    "    Args:\n",
    "        element(list): lista => [...] todas as features\n",
    "    \n",
    "    Returns:\n",
    "        lista => [coduf, governador, uf]\n",
    "    \n",
    "    '''\n",
    "    def process(self, element):\n",
    "        return [element[1] + ',' + element[0] + ',' + element[3]]"
   ]
  },
  {
   "cell_type": "code",
   "execution_count": 7,
   "id": "a3e499a0",
   "metadata": {},
   "outputs": [],
   "source": [
    "class SelectCovidFields(beam.DoFn):\n",
    "    '''\n",
    "    Seleciona dentre todas as features extraídas, coduf, regiao, estado, casosAcumulado, obitosAcumulado\n",
    "    \n",
    "    Args:\n",
    "        element(list): lista => [...] todas as features\n",
    "    \n",
    "    Returns:\n",
    "        lista => [coduf, regiao, estado, casosAcumulado, obitosAcumulado]\n",
    "    \n",
    "    '''\n",
    "    def process(self, element):\n",
    "        return [element[3] + ',' + element[0] + ',' + element[1] + ',' + element[10] + ',' + element[12]]"
   ]
  },
  {
   "cell_type": "code",
   "execution_count": 8,
   "id": "5f334a43",
   "metadata": {},
   "outputs": [],
   "source": [
    "class SplitRow(beam.DoFn):\n",
    "    '''\n",
    "    Transforma dados csv em listas\n",
    "    \n",
    "    Args:\n",
    "        element(str): todas as features\n",
    "    \n",
    "    Returns:\n",
    "        lista => [...] todas as features\n",
    "    \n",
    "    '''\n",
    "    def process(self, element):\n",
    "        new_element = element.split(';')\n",
    "        yield new_element"
   ]
  },
  {
   "cell_type": "code",
   "execution_count": 9,
   "id": "6c6dfb86",
   "metadata": {},
   "outputs": [],
   "source": [
    "pipe = beam.Pipeline()"
   ]
  },
  {
   "cell_type": "code",
   "execution_count": 10,
   "id": "384a567c",
   "metadata": {},
   "outputs": [
    {
     "data": {
      "application/javascript": [
       "\n",
       "        if (typeof window.interactive_beam_jquery == 'undefined') {\n",
       "          var jqueryScript = document.createElement('script');\n",
       "          jqueryScript.src = 'https://code.jquery.com/jquery-3.4.1.slim.min.js';\n",
       "          jqueryScript.type = 'text/javascript';\n",
       "          jqueryScript.onload = function() {\n",
       "            var datatableScript = document.createElement('script');\n",
       "            datatableScript.src = 'https://cdn.datatables.net/1.10.20/js/jquery.dataTables.min.js';\n",
       "            datatableScript.type = 'text/javascript';\n",
       "            datatableScript.onload = function() {\n",
       "              window.interactive_beam_jquery = jQuery.noConflict(true);\n",
       "              window.interactive_beam_jquery(document).ready(function($){\n",
       "                \n",
       "              });\n",
       "            }\n",
       "            document.head.appendChild(datatableScript);\n",
       "          };\n",
       "          document.head.appendChild(jqueryScript);\n",
       "        } else {\n",
       "          window.interactive_beam_jquery(document).ready(function($){\n",
       "            \n",
       "          });\n",
       "        }"
      ]
     },
     "metadata": {},
     "output_type": "display_data"
    }
   ],
   "source": [
    "covid_data = (pipe\n",
    "     |\"Extrair csv\" >> beam.io.ReadFromText(covid_hist_path, skip_header_lines=True)\n",
    "     |\"Transformar dados csv em listas\" >> beam.ParDo(SplitRow())\n",
    "     |\"Filtrar dados nacionais\" >> beam.Filter(lambda x:x[3]!='76')\n",
    "     |\"Filtrar dados municipais\" >> beam.Filter(lambda x:x[2]=='')\n",
    "     |\"Filtrar dados municipais resultantes\" >> beam.Filter(lambda x:x[4]=='')\n",
    "     |\"Extrair apenas a ultima amostragem\" >> beam.Filter(lambda x:x[7]==\"28/09/2020\")\n",
    "     |\"Selecionar apenas features relevantes\" >> beam.ParDo(SelectCovidFields())\n",
    "     |\"Retornar listas formatadas\" >> beam.Map(lambda x:x.split(\",\"))\n",
    "     |\"Gera uma lista de tuplas\" >> beam.ParDo(GenerateCovidKey())\n",
    ")"
   ]
  },
  {
   "cell_type": "code",
   "execution_count": 11,
   "id": "9d0fe18f",
   "metadata": {},
   "outputs": [],
   "source": [
    "estados_data = (pipe\n",
    "    |\"Extrair csv\" >> beam.io.ReadFromText(estados_ibge_path, skip_header_lines=True)\n",
    "    |\"Transformar dados csv em listas\" >> beam.ParDo(SplitRow())\n",
    "    |\"Selecionar apenas features relevantes\" >> beam.ParDo(SelectEstadosFields())\n",
    "    |\"Retornar listas formatadas\" >> beam.Map(lambda x:x.split(\",\"))\n",
    "    |\"Gera uma lista de tuplas\" >> beam.ParDo(GenerateEstadosKey())\n",
    ")"
   ]
  },
  {
   "cell_type": "code",
   "execution_count": 12,
   "id": "cd69b043",
   "metadata": {},
   "outputs": [],
   "source": [
    "merged_data = ((covid_data,estados_data)\n",
    "    |\"Agrupa as duas Pcollections em uma nova Pcollection\" >> beam.Flatten()\n",
    "    |\"Agrupa os dados por código de estados\" >> beam.GroupByKey()\n",
    "    |\"Transforma uma tupla de listas em string\" >> beam.ParDo(ToStr())\n",
    "    |\"Envia os dados para result_file.csv\" >> beam.io.WriteToText(\"data/resultado\",\".csv\", header='Regiao, Estado, UF, Governador, TotalCasos, TotalObitos')\n",
    ")"
   ]
  },
  {
   "cell_type": "code",
   "execution_count": 13,
   "id": "698dc1fc",
   "metadata": {},
   "outputs": [],
   "source": [
    "headers = 'Regiao, Estado, UF, Governador, TotalCasos, TotalObitos'"
   ]
  },
  {
   "cell_type": "code",
   "execution_count": 14,
   "id": "b5c0715e",
   "metadata": {},
   "outputs": [
    {
     "ename": "OSError",
     "evalue": "No files found based on the file pattern resultado-00000-of-00001.csv",
     "output_type": "error",
     "traceback": [
      "\u001b[0;31m---------------------------------------------------------------------------\u001b[0m",
      "\u001b[0;31mOSError\u001b[0m                                   Traceback (most recent call last)",
      "\u001b[0;32m<ipython-input-14-a8bd1c080b54>\u001b[0m in \u001b[0;36m<module>\u001b[0;34m\u001b[0m\n\u001b[1;32m      1\u001b[0m merged_json = (pipe\n\u001b[0;32m----> 2\u001b[0;31m     \u001b[0;34m|\u001b[0m\u001b[0mbeam\u001b[0m\u001b[0;34m.\u001b[0m\u001b[0mio\u001b[0m\u001b[0;34m.\u001b[0m\u001b[0mReadFromText\u001b[0m\u001b[0;34m(\u001b[0m\u001b[0;34m\"resultado-00000-of-00001.csv\"\u001b[0m\u001b[0;34m,\u001b[0m \u001b[0mskip_header_lines\u001b[0m\u001b[0;34m=\u001b[0m\u001b[0;32mTrue\u001b[0m\u001b[0;34m)\u001b[0m\u001b[0;34m\u001b[0m\u001b[0;34m\u001b[0m\u001b[0m\n\u001b[0m\u001b[1;32m      3\u001b[0m     \u001b[0;34m|\u001b[0m\u001b[0mbeam\u001b[0m\u001b[0;34m.\u001b[0m\u001b[0mMap\u001b[0m\u001b[0;34m(\u001b[0m\u001b[0;32mlambda\u001b[0m \u001b[0mline\u001b[0m\u001b[0;34m:\u001b[0m \u001b[0mzip\u001b[0m\u001b[0;34m(\u001b[0m\u001b[0mheaders\u001b[0m\u001b[0;34m,\u001b[0m \u001b[0mline\u001b[0m\u001b[0;34m.\u001b[0m\u001b[0msplit\u001b[0m\u001b[0;34m(\u001b[0m\u001b[0;34m','\u001b[0m\u001b[0;34m)\u001b[0m\u001b[0;34m)\u001b[0m\u001b[0;34m)\u001b[0m\u001b[0;34m\u001b[0m\u001b[0;34m\u001b[0m\u001b[0m\n\u001b[1;32m      4\u001b[0m     \u001b[0;34m|\u001b[0m\u001b[0mbeam\u001b[0m\u001b[0;34m.\u001b[0m\u001b[0mMap\u001b[0m\u001b[0;34m(\u001b[0m\u001b[0mprint\u001b[0m\u001b[0;34m)\u001b[0m\u001b[0;34m\u001b[0m\u001b[0;34m\u001b[0m\u001b[0m\n\u001b[1;32m      5\u001b[0m )\n",
      "\u001b[0;32m/usr/local/lib/python3.8/dist-packages/apache_beam/io/textio.py\u001b[0m in \u001b[0;36m__init__\u001b[0;34m(self, file_pattern, min_bundle_size, compression_type, strip_trailing_newlines, coder, validate, skip_header_lines, **kwargs)\u001b[0m\n\u001b[1;32m    566\u001b[0m \u001b[0;34m\u001b[0m\u001b[0m\n\u001b[1;32m    567\u001b[0m     \u001b[0msuper\u001b[0m\u001b[0;34m(\u001b[0m\u001b[0mReadFromText\u001b[0m\u001b[0;34m,\u001b[0m \u001b[0mself\u001b[0m\u001b[0;34m)\u001b[0m\u001b[0;34m.\u001b[0m\u001b[0m__init__\u001b[0m\u001b[0;34m(\u001b[0m\u001b[0;34m**\u001b[0m\u001b[0mkwargs\u001b[0m\u001b[0;34m)\u001b[0m\u001b[0;34m\u001b[0m\u001b[0;34m\u001b[0m\u001b[0m\n\u001b[0;32m--> 568\u001b[0;31m     self._source = self._source_class(\n\u001b[0m\u001b[1;32m    569\u001b[0m         \u001b[0mfile_pattern\u001b[0m\u001b[0;34m,\u001b[0m\u001b[0;34m\u001b[0m\u001b[0;34m\u001b[0m\u001b[0m\n\u001b[1;32m    570\u001b[0m         \u001b[0mmin_bundle_size\u001b[0m\u001b[0;34m,\u001b[0m\u001b[0;34m\u001b[0m\u001b[0;34m\u001b[0m\u001b[0m\n",
      "\u001b[0;32m/usr/local/lib/python3.8/dist-packages/apache_beam/io/textio.py\u001b[0m in \u001b[0;36m__init__\u001b[0;34m(self, file_pattern, min_bundle_size, compression_type, strip_trailing_newlines, coder, buffer_size, validate, skip_header_lines, header_processor_fns)\u001b[0m\n\u001b[1;32m    119\u001b[0m     \u001b[0mof\u001b[0m \u001b[0mthe\u001b[0m \u001b[0marguments\u001b[0m\u001b[0;34m.\u001b[0m\u001b[0;34m\u001b[0m\u001b[0;34m\u001b[0m\u001b[0m\n\u001b[1;32m    120\u001b[0m     \"\"\"\n\u001b[0;32m--> 121\u001b[0;31m     super(_TextSource, self).__init__(\n\u001b[0m\u001b[1;32m    122\u001b[0m         \u001b[0mfile_pattern\u001b[0m\u001b[0;34m,\u001b[0m\u001b[0;34m\u001b[0m\u001b[0;34m\u001b[0m\u001b[0m\n\u001b[1;32m    123\u001b[0m         \u001b[0mmin_bundle_size\u001b[0m\u001b[0;34m,\u001b[0m\u001b[0;34m\u001b[0m\u001b[0;34m\u001b[0m\u001b[0m\n",
      "\u001b[0;32m/usr/local/lib/python3.8/dist-packages/apache_beam/io/filebasedsource.py\u001b[0m in \u001b[0;36m__init__\u001b[0;34m(self, file_pattern, min_bundle_size, compression_type, splittable, validate)\u001b[0m\n\u001b[1;32m    122\u001b[0m     \u001b[0mself\u001b[0m\u001b[0;34m.\u001b[0m\u001b[0m_splittable\u001b[0m \u001b[0;34m=\u001b[0m \u001b[0msplittable\u001b[0m\u001b[0;34m\u001b[0m\u001b[0;34m\u001b[0m\u001b[0m\n\u001b[1;32m    123\u001b[0m     \u001b[0;32mif\u001b[0m \u001b[0mvalidate\u001b[0m \u001b[0;32mand\u001b[0m \u001b[0mfile_pattern\u001b[0m\u001b[0;34m.\u001b[0m\u001b[0mis_accessible\u001b[0m\u001b[0;34m(\u001b[0m\u001b[0;34m)\u001b[0m\u001b[0;34m:\u001b[0m\u001b[0;34m\u001b[0m\u001b[0;34m\u001b[0m\u001b[0m\n\u001b[0;32m--> 124\u001b[0;31m       \u001b[0mself\u001b[0m\u001b[0;34m.\u001b[0m\u001b[0m_validate\u001b[0m\u001b[0;34m(\u001b[0m\u001b[0;34m)\u001b[0m\u001b[0;34m\u001b[0m\u001b[0;34m\u001b[0m\u001b[0m\n\u001b[0m\u001b[1;32m    125\u001b[0m \u001b[0;34m\u001b[0m\u001b[0m\n\u001b[1;32m    126\u001b[0m   \u001b[0;32mdef\u001b[0m \u001b[0mdisplay_data\u001b[0m\u001b[0;34m(\u001b[0m\u001b[0mself\u001b[0m\u001b[0;34m)\u001b[0m\u001b[0;34m:\u001b[0m\u001b[0;34m\u001b[0m\u001b[0;34m\u001b[0m\u001b[0m\n",
      "\u001b[0;32m/usr/local/lib/python3.8/dist-packages/apache_beam/options/value_provider.py\u001b[0m in \u001b[0;36m_f\u001b[0;34m(self, *args, **kwargs)\u001b[0m\n\u001b[1;32m    191\u001b[0m         \u001b[0;32mif\u001b[0m \u001b[0;32mnot\u001b[0m \u001b[0mobj\u001b[0m\u001b[0;34m.\u001b[0m\u001b[0mis_accessible\u001b[0m\u001b[0;34m(\u001b[0m\u001b[0;34m)\u001b[0m\u001b[0;34m:\u001b[0m\u001b[0;34m\u001b[0m\u001b[0;34m\u001b[0m\u001b[0m\n\u001b[1;32m    192\u001b[0m           \u001b[0;32mraise\u001b[0m \u001b[0merror\u001b[0m\u001b[0;34m.\u001b[0m\u001b[0mRuntimeValueProviderError\u001b[0m\u001b[0;34m(\u001b[0m\u001b[0;34m'%s not accessible'\u001b[0m \u001b[0;34m%\u001b[0m \u001b[0mobj\u001b[0m\u001b[0;34m)\u001b[0m\u001b[0;34m\u001b[0m\u001b[0;34m\u001b[0m\u001b[0m\n\u001b[0;32m--> 193\u001b[0;31m       \u001b[0;32mreturn\u001b[0m \u001b[0mfnc\u001b[0m\u001b[0;34m(\u001b[0m\u001b[0mself\u001b[0m\u001b[0;34m,\u001b[0m \u001b[0;34m*\u001b[0m\u001b[0margs\u001b[0m\u001b[0;34m,\u001b[0m \u001b[0;34m**\u001b[0m\u001b[0mkwargs\u001b[0m\u001b[0;34m)\u001b[0m\u001b[0;34m\u001b[0m\u001b[0;34m\u001b[0m\u001b[0m\n\u001b[0m\u001b[1;32m    194\u001b[0m \u001b[0;34m\u001b[0m\u001b[0m\n\u001b[1;32m    195\u001b[0m     \u001b[0;32mreturn\u001b[0m \u001b[0m_f\u001b[0m\u001b[0;34m\u001b[0m\u001b[0;34m\u001b[0m\u001b[0m\n",
      "\u001b[0;32m/usr/local/lib/python3.8/dist-packages/apache_beam/io/filebasedsource.py\u001b[0m in \u001b[0;36m_validate\u001b[0;34m(self)\u001b[0m\n\u001b[1;32m    185\u001b[0m     \u001b[0mmatch_result\u001b[0m \u001b[0;34m=\u001b[0m \u001b[0mFileSystems\u001b[0m\u001b[0;34m.\u001b[0m\u001b[0mmatch\u001b[0m\u001b[0;34m(\u001b[0m\u001b[0;34m[\u001b[0m\u001b[0mpattern\u001b[0m\u001b[0;34m]\u001b[0m\u001b[0;34m,\u001b[0m \u001b[0mlimits\u001b[0m\u001b[0;34m=\u001b[0m\u001b[0;34m[\u001b[0m\u001b[0;36m1\u001b[0m\u001b[0;34m]\u001b[0m\u001b[0;34m)\u001b[0m\u001b[0;34m[\u001b[0m\u001b[0;36m0\u001b[0m\u001b[0;34m]\u001b[0m\u001b[0;34m\u001b[0m\u001b[0;34m\u001b[0m\u001b[0m\n\u001b[1;32m    186\u001b[0m     \u001b[0;32mif\u001b[0m \u001b[0mlen\u001b[0m\u001b[0;34m(\u001b[0m\u001b[0mmatch_result\u001b[0m\u001b[0;34m.\u001b[0m\u001b[0mmetadata_list\u001b[0m\u001b[0;34m)\u001b[0m \u001b[0;34m<=\u001b[0m \u001b[0;36m0\u001b[0m\u001b[0;34m:\u001b[0m\u001b[0;34m\u001b[0m\u001b[0;34m\u001b[0m\u001b[0m\n\u001b[0;32m--> 187\u001b[0;31m       \u001b[0;32mraise\u001b[0m \u001b[0mIOError\u001b[0m\u001b[0;34m(\u001b[0m\u001b[0;34m'No files found based on the file pattern %s'\u001b[0m \u001b[0;34m%\u001b[0m \u001b[0mpattern\u001b[0m\u001b[0;34m)\u001b[0m\u001b[0;34m\u001b[0m\u001b[0;34m\u001b[0m\u001b[0m\n\u001b[0m\u001b[1;32m    188\u001b[0m \u001b[0;34m\u001b[0m\u001b[0m\n\u001b[1;32m    189\u001b[0m   def split(\n",
      "\u001b[0;31mOSError\u001b[0m: No files found based on the file pattern resultado-00000-of-00001.csv"
     ]
    }
   ],
   "source": [
    "merged_json = (pipe\n",
    "    |beam.io.ReadFromText(\"resultado-00000-of-00001.csv\", skip_header_lines=True)\n",
    "    |beam.Map(lambda line: zip(headers, line.split(',')))\n",
    "    |beam.Map(print)\n",
    ")"
   ]
  },
  {
   "cell_type": "code",
   "execution_count": null,
   "id": "39028c4d",
   "metadata": {},
   "outputs": [],
   "source": [
    "pipe.run()"
   ]
  }
 ],
 "metadata": {
  "kernelspec": {
   "display_name": "Python 3",
   "language": "python",
   "name": "python3"
  },
  "language_info": {
   "codemirror_mode": {
    "name": "ipython",
    "version": 3
   },
   "file_extension": ".py",
   "mimetype": "text/x-python",
   "name": "python",
   "nbconvert_exporter": "python",
   "pygments_lexer": "ipython3",
   "version": "3.8.10"
  }
 },
 "nbformat": 4,
 "nbformat_minor": 5
}
