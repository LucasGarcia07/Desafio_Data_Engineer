{
 "cells": [
  {
   "cell_type": "code",
   "execution_count": 1,
   "id": "87f7251d",
   "metadata": {},
   "outputs": [],
   "source": [
    "import apache_beam as beam\n",
    "import json"
   ]
  },
  {
   "cell_type": "code",
   "execution_count": 2,
   "id": "b2c649b3",
   "metadata": {},
   "outputs": [],
   "source": [
    "covid_hist_path = (\"data/HIST_PAINEL_COVIDBR_28set2020.csv\")\n",
    "estados_ibge_path = (\"data/EstadosIBGE.csv\")"
   ]
  },
  {
   "cell_type": "code",
   "execution_count": 3,
   "id": "99896faa",
   "metadata": {},
   "outputs": [],
   "source": [
    "class ToStr(beam.DoFn):\n",
    "    '''\n",
    "    Transforma uma tupla de listas em string formatada\n",
    "    \n",
    "    Args:\n",
    "        element (tupple): tupla entre coduf e lista de regiao, governador, uf, estado, casosAcumulado, obitosAcumulado\n",
    "    Returns:\n",
    "        strings\n",
    "    '''\n",
    "    def process(self, element):\n",
    "        if len(element[1][0]) > len(element[1][1]):\n",
    "            lista = [element[1][0][0], element[1][0][1], element[1][1][1], element[1][1][0], element[1][0][2], element[1][0][3]]\n",
    "        else:\n",
    "            lista = [element[1][1][0], element[1][0][0], element[1][1][1], element[1][0][1], element[1][1][2], element[1][1][3]]\n",
    "        return [','.join(lista)]"
   ]
  },
  {
   "cell_type": "code",
   "execution_count": 4,
   "id": "363af698",
   "metadata": {},
   "outputs": [],
   "source": [
    "class GenerateCovidKey(beam.DoFn):\n",
    "    '''\n",
    "    Gera uma tupla de listas a partir dos elementos selecionados\n",
    "    \n",
    "    Args:\n",
    "        element (list): lista =>  [coduf, regiao, estado, casosAcumulado, obitosAcumulado]\n",
    "    \n",
    "    Returns: \n",
    "        tupple => (coduf, regiao, estado, casosAcumulado, obitosAcumulado )\n",
    "    \n",
    "    '''\n",
    "    def process(self, element):\n",
    "        return [(element[0], [element[1], element[2], element[3], element[4]])]"
   ]
  },
  {
   "cell_type": "code",
   "execution_count": 5,
   "id": "c96a3bb3",
   "metadata": {},
   "outputs": [],
   "source": [
    "class GenerateEstadosKey(beam.DoFn):\n",
    "    '''\n",
    "    Gera uma tupla de listas a partir dos elementos selecionados\n",
    "    \n",
    "    Args:\n",
    "        element (list): lista =>  [coduf, governador, uf]\n",
    "    \n",
    "    Returns: \n",
    "        tupple => (coduf, governador, uf)\n",
    "    \n",
    "    '''\n",
    "    \n",
    "    def process(self, element):\n",
    "        return [(element[0], [element[1], element[2]])]"
   ]
  },
  {
   "cell_type": "code",
   "execution_count": 6,
   "id": "52abc53a",
   "metadata": {},
   "outputs": [],
   "source": [
    "class SelectEstadosFields(beam.DoFn):\n",
    "    '''\n",
    "    Seleciona dentre todas as features extraídas, código, governador, uf\n",
    "    \n",
    "    Args:\n",
    "        element(list): lista => [...] todas as features\n",
    "    \n",
    "    Returns:\n",
    "        lista => [coduf, governador, uf]\n",
    "    \n",
    "    '''\n",
    "    def process(self, element):\n",
    "        return [element[1] + ',' + element[0] + ',' + element[3]]"
   ]
  },
  {
   "cell_type": "code",
   "execution_count": 7,
   "id": "c29023f5",
   "metadata": {},
   "outputs": [],
   "source": [
    "class SelectCovidFields(beam.DoFn):\n",
    "    '''\n",
    "    Seleciona dentre todas as features extraídas, coduf, regiao, estado, casosAcumulado, obitosAcumulado\n",
    "    \n",
    "    Args:\n",
    "        element(list): lista => [...] todas as features\n",
    "    \n",
    "    Returns:\n",
    "        lista => [coduf, regiao, estado, casosAcumulado, obitosAcumulado]\n",
    "    \n",
    "    '''\n",
    "    def process(self, element):\n",
    "        return [element[3] + ',' + element[0] + ',' + element[1] + ',' + element[10] + ',' + element[12]]"
   ]
  },
  {
   "cell_type": "code",
   "execution_count": 8,
   "id": "d50aa7bc",
   "metadata": {},
   "outputs": [],
   "source": [
    "class SplitRow(beam.DoFn):\n",
    "    '''\n",
    "    Transforma dados csv em listas\n",
    "    \n",
    "    Args:\n",
    "        element(str): todas as features\n",
    "    \n",
    "    Returns:\n",
    "        lista => [...] todas as features\n",
    "    \n",
    "    '''\n",
    "    def process(self, element):\n",
    "        new_element = element.split(';')\n",
    "        yield new_element"
   ]
  },
  {
   "cell_type": "code",
   "execution_count": 9,
   "id": "86086c3c",
   "metadata": {},
   "outputs": [],
   "source": [
    "pipe = beam.Pipeline()"
   ]
  },
  {
   "cell_type": "code",
   "execution_count": 10,
   "id": "678b2541",
   "metadata": {},
   "outputs": [
    {
     "data": {
      "application/javascript": [
       "\n",
       "        if (typeof window.interactive_beam_jquery == 'undefined') {\n",
       "          var jqueryScript = document.createElement('script');\n",
       "          jqueryScript.src = 'https://code.jquery.com/jquery-3.4.1.slim.min.js';\n",
       "          jqueryScript.type = 'text/javascript';\n",
       "          jqueryScript.onload = function() {\n",
       "            var datatableScript = document.createElement('script');\n",
       "            datatableScript.src = 'https://cdn.datatables.net/1.10.20/js/jquery.dataTables.min.js';\n",
       "            datatableScript.type = 'text/javascript';\n",
       "            datatableScript.onload = function() {\n",
       "              window.interactive_beam_jquery = jQuery.noConflict(true);\n",
       "              window.interactive_beam_jquery(document).ready(function($){\n",
       "                \n",
       "              });\n",
       "            }\n",
       "            document.head.appendChild(datatableScript);\n",
       "          };\n",
       "          document.head.appendChild(jqueryScript);\n",
       "        } else {\n",
       "          window.interactive_beam_jquery(document).ready(function($){\n",
       "            \n",
       "          });\n",
       "        }"
      ]
     },
     "metadata": {},
     "output_type": "display_data"
    }
   ],
   "source": [
    "covid_data = (pipe\n",
    "     |\"Extrair csv\" >> beam.io.ReadFromText(covid_hist_path, skip_header_lines=True)\n",
    "     |\"Transformar dados csv em listas\" >> beam.ParDo(SplitRow())\n",
    "     |\"Filtrar dados nacionais\" >> beam.Filter(lambda x:x[3]!='76')\n",
    "     |\"Filtrar dados municipais\" >> beam.Filter(lambda x:x[2]=='')\n",
    "     |\"Filtrar dados municipais resultantes\" >> beam.Filter(lambda x:x[4]=='')\n",
    "     |\"Extrair apenas a ultima amostragem\" >> beam.Filter(lambda x:x[7]==\"28/09/2020\")\n",
    "     |\"Selecionar apenas features relevantes\" >> beam.ParDo(SelectCovidFields())\n",
    "     |\"Retornar listas formatadas\" >> beam.Map(lambda x:x.split(\",\"))\n",
    "     |\"Gera uma lista de tuplas\" >> beam.ParDo(GenerateCovidKey())\n",
    ")"
   ]
  },
  {
   "cell_type": "code",
   "execution_count": 11,
   "id": "d45de893",
   "metadata": {},
   "outputs": [],
   "source": [
    "estados_data = (pipe\n",
    "    |\"Extrair csv\" >> beam.io.ReadFromText(estados_ibge_path, skip_header_lines=True)\n",
    "    |\"Transformar dados csv em listas\" >> beam.ParDo(SplitRow())\n",
    "    |\"Selecionar apenas features relevantes\" >> beam.ParDo(SelectEstadosFields())\n",
    "    |\"Retornar listas formatadas\" >> beam.Map(lambda x:x.split(\",\"))\n",
    "    |\"Gera uma lista de tuplas\" >> beam.ParDo(GenerateEstadosKey())\n",
    ")"
   ]
  },
  {
   "cell_type": "code",
   "execution_count": 12,
   "id": "fac40324",
   "metadata": {},
   "outputs": [],
   "source": [
    "merged_data = ((covid_data,estados_data)\n",
    "    |\"Agrupa as duas Pcollections em uma nova Pcollection\" >> beam.Flatten()\n",
    "    |\"Agrupa os dados por código de estados\" >> beam.GroupByKey()\n",
    "    |\"Transforma uma tupla de listas em string\" >> beam.ParDo(ToStr())\n",
    "    |\"Envia os dados para result_file.csv\" >> beam.io.WriteToText(\"data/resultado\",\n",
    "                                                                  file_name_suffix='.csv',\n",
    "                                                                  header='Regiao, Estado, UF, Governador, TotalCasos, TotalObitos')\n",
    ")"
   ]
  },
  {
   "cell_type": "code",
   "execution_count": 13,
   "id": "b1d7da7c",
   "metadata": {},
   "outputs": [],
   "source": [
    "headers = ['Regiao', 'Estado', 'UF', 'Governador', 'TotalCasos', 'TotalObitos']"
   ]
  },
  {
   "cell_type": "code",
   "execution_count": 14,
   "id": "04bcacd2",
   "metadata": {},
   "outputs": [],
   "source": [
    "merged_json = (pipe\n",
    "    |beam.io.ReadFromText(\"data/resultado-00000-of-00001.csv\", skip_header_lines=True)\n",
    "    |beam.Map(lambda line: dict(zip(headers, line.split(',') ) ) )\n",
    "    |beam.Map(json.dumps)\n",
    "    |beam.io.WriteToText(\"data/resultado\", file_name_suffix='.json')\n",
    ")"
   ]
  },
  {
   "cell_type": "code",
   "execution_count": 15,
   "id": "c2a136c2",
   "metadata": {},
   "outputs": [
    {
     "name": "stderr",
     "output_type": "stream",
     "text": [
      "WARNING:root:Make sure that locally built Python SDK docker image has Python 3.8 interpreter.\n",
      "WARNING:apache_beam.io.filebasedsink:Deleting 1 existing files in target path matching: -*-of-%(num_shards)05d\n"
     ]
    },
    {
     "data": {
      "text/plain": [
       "<apache_beam.runners.portability.fn_api_runner.fn_runner.RunnerResult at 0x7feb458b8f10>"
      ]
     },
     "execution_count": 15,
     "metadata": {},
     "output_type": "execute_result"
    }
   ],
   "source": [
    "pipe.run()"
   ]
  }
 ],
 "metadata": {
  "kernelspec": {
   "display_name": "Python 3",
   "language": "python",
   "name": "python3"
  },
  "language_info": {
   "codemirror_mode": {
    "name": "ipython",
    "version": 3
   },
   "file_extension": ".py",
   "mimetype": "text/x-python",
   "name": "python",
   "nbconvert_exporter": "python",
   "pygments_lexer": "ipython3",
   "version": "3.8.10"
  }
 },
 "nbformat": 4,
 "nbformat_minor": 5
}
