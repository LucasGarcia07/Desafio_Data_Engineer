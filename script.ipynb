{
 "cells": [
  {
   "cell_type": "code",
   "execution_count": 1,
   "id": "0611aa5f",
   "metadata": {},
   "outputs": [],
   "source": [
    "import apache_beam as beam"
   ]
  },
  {
   "cell_type": "code",
   "execution_count": 2,
   "id": "d3401bbe",
   "metadata": {},
   "outputs": [],
   "source": [
    "covid_hist_path = (\"HIST_PAINEL_COVIDBR_28set2020.csv\")\n",
    "estados_ibge_path = (\"EstadosIBGE.csv\")"
   ]
  },
  {
   "cell_type": "code",
   "execution_count": 3,
   "id": "5e5298cf",
   "metadata": {},
   "outputs": [],
   "source": [
    "class ToStr(beam.DoFn):\n",
    "    '''\n",
    "    Transforma uma tupla de listas em string\n",
    "    \n",
    "    Args:\n",
    "        element (tupple): tupla entre coduf e lista de regiao, governador, uf, estado, casosAcumulado, obitosAcumulado\n",
    "    Returns:\n",
    "        strings\n",
    "    '''\n",
    "    def process(self, element):\n",
    "        lista = element[1][0] + element[1][1]\n",
    "        str1 = ','.join(map(str,lista))\n",
    "        return [str1]"
   ]
  },
  {
   "cell_type": "code",
   "execution_count": null,
   "id": "68a4274f",
   "metadata": {},
   "outputs": [],
   "source": [
    "class GenerateCovidKey(beam.DoFn):\n",
    "    '''\n",
    "    Gera uma tupla de listas a partir dos elementos selecionados\n",
    "    \n",
    "    Args:\n",
    "        element (list): lista =>  [coduf, estado, casosAcumulado, obitosAcumulado]\n",
    "    \n",
    "    Returns: \n",
    "        tupple => (coduf, estado, casosAcumulado, obitosAcumulado )\n",
    "    \n",
    "    '''\n",
    "    def process(self, element):\n",
    "        return [(element[0], [element[1], element[2], element[3], element[4]])]"
   ]
  },
  {
   "cell_type": "code",
   "execution_count": null,
   "id": "79b5a5e4",
   "metadata": {},
   "outputs": [],
   "source": [
    "class GenerateEstadosKey(beam.DoFn):\n",
    "    '''\n",
    "    Gera uma tupla de listas a partir dos elementos selecionados\n",
    "    \n",
    "    Args:\n",
    "        element (list): lista =>  [coduf, governador, uf]\n",
    "    \n",
    "    Returns: \n",
    "        tupple => (coduf, governador, uf)\n",
    "    \n",
    "    '''\n",
    "    \n",
    "    def process(self, element):\n",
    "        return [(element[0], [element[1], element[2]])]"
   ]
  },
  {
   "cell_type": "code",
   "execution_count": null,
   "id": "44aa63f4",
   "metadata": {},
   "outputs": [],
   "source": [
    "class SelectEstadosFields(beam.DoFn):\n",
    "    '''\n",
    "    Seleciona dentre todas as features extraídas, código, governador, uf\n",
    "    \n",
    "    Args:\n",
    "        element(list): lista => [...] todas as features\n",
    "    \n",
    "    Returns:\n",
    "        lista => [coduf, governador, uf]\n",
    "    \n",
    "    '''\n",
    "    def process(self, element):\n",
    "        return [element[1] + ',' + element[0] + ',' + element[3]]"
   ]
  },
  {
   "cell_type": "code",
   "execution_count": null,
   "id": "cbeeed0e",
   "metadata": {},
   "outputs": [],
   "source": [
    "class SelectCovidFields(beam.DoFn):\n",
    "    '''\n",
    "    Seleciona dentre todas as features extraídas, coduf, regiao, estado, casosAcumulado, obitosAcumulado\n",
    "    \n",
    "    Args:\n",
    "        element(list): lista => [...] todas as features\n",
    "    \n",
    "    Returns:\n",
    "        lista => [coduf, regiao, estado, casosAcumulado, obitosAcumulado]\n",
    "    \n",
    "    '''\n",
    "    def process(self, element):\n",
    "        return [element[3] + ',' + element[0] + ',' + element[1] + ',' + element[10] + ',' + element[12]]"
   ]
  },
  {
   "cell_type": "code",
   "execution_count": null,
   "id": "3f8abd55",
   "metadata": {},
   "outputs": [],
   "source": [
    "class SplitRow(beam.DoFn):\n",
    "    '''\n",
    "    Transforma dados csv em listas\n",
    "    \n",
    "    Args:\n",
    "        element(str): todas as features\n",
    "    \n",
    "    Returns:\n",
    "        lista => [...] todas as features\n",
    "    \n",
    "    '''\n",
    "    def process(self, element):\n",
    "        new_element = element.split(';')\n",
    "        yield new_element"
   ]
  },
  {
   "cell_type": "code",
   "execution_count": null,
   "id": "3c8a28c2",
   "metadata": {},
   "outputs": [],
   "source": []
  },
  {
   "cell_type": "code",
   "execution_count": null,
   "id": "83297756",
   "metadata": {},
   "outputs": [],
   "source": []
  },
  {
   "cell_type": "code",
   "execution_count": null,
   "id": "6f1683d8",
   "metadata": {},
   "outputs": [],
   "source": []
  },
  {
   "cell_type": "code",
   "execution_count": null,
   "id": "7ef6e079",
   "metadata": {},
   "outputs": [],
   "source": []
  },
  {
   "cell_type": "code",
   "execution_count": null,
   "id": "d68eccb6",
   "metadata": {},
   "outputs": [],
   "source": []
  }
 ],
 "metadata": {
  "kernelspec": {
   "display_name": "Python 3",
   "language": "python",
   "name": "python3"
  },
  "language_info": {
   "codemirror_mode": {
    "name": "ipython",
    "version": 3
   },
   "file_extension": ".py",
   "mimetype": "text/x-python",
   "name": "python",
   "nbconvert_exporter": "python",
   "pygments_lexer": "ipython3",
   "version": "3.8.10"
  }
 },
 "nbformat": 4,
 "nbformat_minor": 5
}
