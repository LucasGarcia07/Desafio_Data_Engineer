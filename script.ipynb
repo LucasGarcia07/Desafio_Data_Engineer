{
 "cells": [
  {
   "cell_type": "code",
   "execution_count": 1,
   "id": "4423f55f",
   "metadata": {},
   "outputs": [],
   "source": [
    "import apache_beam as beam"
   ]
  },
  {
   "cell_type": "code",
   "execution_count": 2,
   "id": "132c088f",
   "metadata": {},
   "outputs": [],
   "source": [
    "covid_hist_path = (\"data/HIST_PAINEL_COVIDBR_28set2020.csv\")\n",
    "estados_ibge_path = (\"data/EstadosIBGE.csv\")"
   ]
  },
  {
   "cell_type": "code",
   "execution_count": 3,
   "id": "df514bf8",
   "metadata": {},
   "outputs": [],
   "source": [
    "class ToStr(beam.DoFn):\n",
    "    '''\n",
    "    Transforma uma tupla de listas em string\n",
    "    \n",
    "    Args:\n",
    "        element (tupple): tupla entre coduf e lista de regiao, governador, uf, estado, casosAcumulado, obitosAcumulado\n",
    "    Returns:\n",
    "        strings\n",
    "    '''\n",
    "    def process(self, element):\n",
    "        lista = element[1][0] + element[1][1]\n",
    "        str1 = ','.join(map(str,lista))\n",
    "        return [str1]"
   ]
  },
  {
   "cell_type": "code",
   "execution_count": 4,
   "id": "bb22a441",
   "metadata": {},
   "outputs": [],
   "source": [
    "class GenerateCovidKey(beam.DoFn):\n",
    "    '''\n",
    "    Gera uma tupla de listas a partir dos elementos selecionados\n",
    "    \n",
    "    Args:\n",
    "        element (list): lista =>  [coduf, estado, casosAcumulado, obitosAcumulado]\n",
    "    \n",
    "    Returns: \n",
    "        tupple => (coduf, estado, casosAcumulado, obitosAcumulado )\n",
    "    \n",
    "    '''\n",
    "    def process(self, element):\n",
    "        return [(element[0], [element[1], element[2], element[3], element[4]])]"
   ]
  },
  {
   "cell_type": "code",
   "execution_count": 5,
   "id": "602d37af",
   "metadata": {},
   "outputs": [],
   "source": [
    "class GenerateEstadosKey(beam.DoFn):\n",
    "    '''\n",
    "    Gera uma tupla de listas a partir dos elementos selecionados\n",
    "    \n",
    "    Args:\n",
    "        element (list): lista =>  [coduf, governador, uf]\n",
    "    \n",
    "    Returns: \n",
    "        tupple => (coduf, governador, uf)\n",
    "    \n",
    "    '''\n",
    "    \n",
    "    def process(self, element):\n",
    "        return [(element[0], [element[1], element[2]])]"
   ]
  },
  {
   "cell_type": "code",
   "execution_count": 6,
   "id": "538bf4fb",
   "metadata": {},
   "outputs": [],
   "source": [
    "class SelectEstadosFields(beam.DoFn):\n",
    "    '''\n",
    "    Seleciona dentre todas as features extraídas, código, governador, uf\n",
    "    \n",
    "    Args:\n",
    "        element(list): lista => [...] todas as features\n",
    "    \n",
    "    Returns:\n",
    "        lista => [coduf, governador, uf]\n",
    "    \n",
    "    '''\n",
    "    def process(self, element):\n",
    "        return [element[1] + ',' + element[0] + ',' + element[3]]"
   ]
  },
  {
   "cell_type": "code",
   "execution_count": 7,
   "id": "9580df5a",
   "metadata": {},
   "outputs": [],
   "source": [
    "class SelectCovidFields(beam.DoFn):\n",
    "    '''\n",
    "    Seleciona dentre todas as features extraídas, coduf, regiao, estado, casosAcumulado, obitosAcumulado\n",
    "    \n",
    "    Args:\n",
    "        element(list): lista => [...] todas as features\n",
    "    \n",
    "    Returns:\n",
    "        lista => [coduf, regiao, estado, casosAcumulado, obitosAcumulado]\n",
    "    \n",
    "    '''\n",
    "    def process(self, element):\n",
    "        return [element[3] + ',' + element[0] + ',' + element[1] + ',' + element[10] + ',' + element[12]]"
   ]
  },
  {
   "cell_type": "code",
   "execution_count": 8,
   "id": "21c69d49",
   "metadata": {},
   "outputs": [],
   "source": [
    "class SplitRow(beam.DoFn):\n",
    "    '''\n",
    "    Transforma dados csv em listas\n",
    "    \n",
    "    Args:\n",
    "        element(str): todas as features\n",
    "    \n",
    "    Returns:\n",
    "        lista => [...] todas as features\n",
    "    \n",
    "    '''\n",
    "    def process(self, element):\n",
    "        new_element = element.split(';')\n",
    "        yield new_element"
   ]
  },
  {
   "cell_type": "code",
   "execution_count": 9,
   "id": "11979ad1",
   "metadata": {},
   "outputs": [],
   "source": [
    "pipe = beam.Pipeline()"
   ]
  },
  {
   "cell_type": "code",
   "execution_count": 10,
   "id": "10dac4e5",
   "metadata": {},
   "outputs": [
    {
     "data": {
      "application/javascript": [
       "\n",
       "        if (typeof window.interactive_beam_jquery == 'undefined') {\n",
       "          var jqueryScript = document.createElement('script');\n",
       "          jqueryScript.src = 'https://code.jquery.com/jquery-3.4.1.slim.min.js';\n",
       "          jqueryScript.type = 'text/javascript';\n",
       "          jqueryScript.onload = function() {\n",
       "            var datatableScript = document.createElement('script');\n",
       "            datatableScript.src = 'https://cdn.datatables.net/1.10.20/js/jquery.dataTables.min.js';\n",
       "            datatableScript.type = 'text/javascript';\n",
       "            datatableScript.onload = function() {\n",
       "              window.interactive_beam_jquery = jQuery.noConflict(true);\n",
       "              window.interactive_beam_jquery(document).ready(function($){\n",
       "                \n",
       "              });\n",
       "            }\n",
       "            document.head.appendChild(datatableScript);\n",
       "          };\n",
       "          document.head.appendChild(jqueryScript);\n",
       "        } else {\n",
       "          window.interactive_beam_jquery(document).ready(function($){\n",
       "            \n",
       "          });\n",
       "        }"
      ]
     },
     "metadata": {},
     "output_type": "display_data"
    }
   ],
   "source": [
    "covid_data = (pipe\n",
    "     |\"Extrair csv\" >> beam.io.ReadFromText(covid_hist_path, skip_header_lines=True)\n",
    "     |\"Transformar dados csv em listas\" >> beam.ParDo(SplitRow())\n",
    "     |\"Filtrar dados nacionais\" >> beam.Filter(lambda x:x[3]!='76')\n",
    "     |\"Filtrar dados municipais\" >> beam.Filter(lambda x:x[2]=='')\n",
    "     |\"Filtrar dados municipais resultantes\" >> beam.Filter(lambda x:x[4]=='')\n",
    "     |\"Extrair apennas a ultima amostragem\" >> beam.Filter(lambda x:x[7]==\"28/09/2020\")\n",
    "     |\"Selecionar apenas features relevantes\" >> beam.ParDo(SelectCovidFields())\n",
    "     |\"Retornar listas formatadas\" >> beam.Map(lambda x:x.split(\",\"))\n",
    "     |\"Gera uma lista de tuplas\" >> beam.ParDo(GenerateCovidKey())\n",
    ")"
   ]
  },
  {
   "cell_type": "code",
   "execution_count": 11,
   "id": "f6d62083",
   "metadata": {},
   "outputs": [],
   "source": [
    "estados_data = (pipe\n",
    "    |\"Extrair csv\" >> beam.io.ReadFromText(estados_ibge_path, skip_header_lines=True)\n",
    "    |\"Transformar dados csv em listas\" >> beam.ParDo(SplitRow())\n",
    "    |\"Selecionar apenas features relevantes\" >> beam.ParDo(SelectEstadosFields())\n",
    "    |\"Retornar listas formatadas\" >> beam.Map(lambda x:x.split(\",\"))\n",
    "    |\"Gera uma lista de tuplas\" >> beam.ParDo(GenerateEstadosKey())\n",
    ")"
   ]
  },
  {
   "cell_type": "code",
   "execution_count": 12,
   "id": "eaa8c3ac",
   "metadata": {},
   "outputs": [],
   "source": [
    "merged_data = ((covid_data,estados_data)\n",
    "    |\"Agrupa as duas Pcollections em uma nova Pcollection\" >> beam.Flatten()\n",
    "    |\"Agrupa os dados por código de estados\" >> beam.GroupByKey()\n",
    "    |\"Transforma uma tupla de listas em string\" >> beam.ParDo(ToStr())\n",
    "    |\"Envia os dados para result_file.csv\" >> beam.io.WriteToText(\"data/result_file\",\".csv\")\n",
    ")"
   ]
  },
  {
   "cell_type": "code",
   "execution_count": null,
   "id": "c0ea5284",
   "metadata": {},
   "outputs": [
    {
     "name": "stderr",
     "output_type": "stream",
     "text": [
      "WARNING:root:Make sure that locally built Python SDK docker image has Python 3.8 interpreter.\n"
     ]
    }
   ],
   "source": [
    "pipe.run()"
   ]
  }
 ],
 "metadata": {
  "kernelspec": {
   "display_name": "Python 3",
   "language": "python",
   "name": "python3"
  },
  "language_info": {
   "codemirror_mode": {
    "name": "ipython",
    "version": 3
   },
   "file_extension": ".py",
   "mimetype": "text/x-python",
   "name": "python",
   "nbconvert_exporter": "python",
   "pygments_lexer": "ipython3",
   "version": "3.8.10"
  }
 },
 "nbformat": 4,
 "nbformat_minor": 5
}
